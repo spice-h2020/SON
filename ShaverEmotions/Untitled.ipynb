{
 "cells": [
  {
   "cell_type": "code",
   "execution_count": 18,
   "id": "0cdb87f0",
   "metadata": {},
   "outputs": [],
   "source": [
    "import rdflib\n",
    "from rdflib import Graph\n",
    "from rdflib import RDFS, OWL\n",
    "from rdflib import Namespace, Literal"
   ]
  },
  {
   "cell_type": "code",
   "execution_count": 15,
   "id": "59442ee6",
   "metadata": {},
   "outputs": [],
   "source": [
    "g = Graph()\n",
    "g.parse(\"ontology.owl\", format=\"ttl\")\n",
    "shavem = Namespace(\"https://w3id.org/spice/SON/ShaverEmotions/\")"
   ]
  },
  {
   "cell_type": "code",
   "execution_count": 20,
   "id": "ba8b4ffb",
   "metadata": {},
   "outputs": [
    {
     "name": "stdout",
     "output_type": "stream",
     "text": [
      "Adoration\n",
      "Affection\n",
      "Aggravation\n",
      "Agitation\n",
      "Agony\n",
      "Alarm\n",
      "Alienation\n",
      "Amazement\n",
      "Amusement\n",
      "Anguish\n",
      "Annoyance\n",
      "Anxiety\n",
      "Apprehension\n",
      "Arousal\n",
      "Astonishment\n",
      "Attraction\n",
      "Bitterness\n",
      "Bliss\n",
      "Caring\n",
      "Cheerfulness\n",
      "Compassion\n",
      "Contempt\n",
      "Contentment\n",
      "Defeat\n",
      "Dejection\n",
      "Delight\n",
      "Depression\n",
      "Desire\n",
      "Despair\n",
      "Disappointment\n",
      "Disgust\n",
      "Dislike\n",
      "Dismay\n",
      "Displeasure\n",
      "Distress\n",
      "Dread\n",
      "Eagerness\n",
      "Ecstasy\n",
      "Elation\n",
      "Embarrassment\n",
      "Enjoyment\n",
      "Enthrallment\n",
      "Enthusiasm\n",
      "Envy\n",
      "Euphoria\n",
      "Exasperation\n",
      "Excitement\n",
      "Exhilaration\n",
      "Ferocity\n",
      "Fondness\n",
      "Fright\n",
      "Frustration\n",
      "Fury\n",
      "Gaiety\n",
      "Gladness\n",
      "Glee\n",
      "Gloom\n",
      "Glumness\n",
      "Grief\n",
      "Grouchiness\n",
      "Grumpiness\n",
      "Guilt\n",
      "Happiness\n",
      "Hate\n",
      "Homesickness\n",
      "Hope\n",
      "Hopelessness\n",
      "Horror\n",
      "Hostility\n",
      "Humiliation\n",
      "Hurt\n",
      "Hysteria\n",
      "Infatuation\n",
      "Insecurity\n",
      "Insult\n",
      "Irritation\n",
      "Isolation\n",
      "Jealousy\n",
      "Jolliness\n",
      "Joviality\n",
      "Jubilation\n",
      "Liking\n",
      "Loathing\n",
      "Loneliness\n",
      "Longing\n",
      "Lust\n",
      "Melancholy\n",
      "Misery\n",
      "Mortification\n",
      "Neglect\n",
      "Nervousness\n",
      "Optimism\n",
      "Outrage\n",
      "Panic\n",
      "Passion\n",
      "Pity\n",
      "Pleasure\n",
      "Pride\n",
      "Rage\n",
      "Rapture\n",
      "Regret\n",
      "Rejection\n",
      "Relief\n",
      "Remorse\n",
      "Resentment\n",
      "Revulsion\n",
      "Satisfaction\n",
      "Scorn\n",
      "Sentimentality\n",
      "Shame\n",
      "Shock\n",
      "Sorrow\n",
      "Spite\n",
      "Suffering\n",
      "Sympathy\n",
      "Tenderness\n",
      "Tenseness\n",
      "Terror\n",
      "Thrill\n",
      "Torment\n",
      "Triumph\n",
      "Uneasiness\n",
      "Unhappiness\n",
      "Vengefulness\n",
      "Woe\n",
      "Worry\n",
      "Wrath\n",
      "Zeal\n",
      "Zest\n"
     ]
    }
   ],
   "source": [
    "for s in g.subjects(RDFS.subClassOf, shavem.EmotionWord):\n",
    "    print(str(s).replace(\"https://w3id.org/spice/SON/ShaverEmotions/\", \"\"))\n",
    "    g.add((s, RDFS.label, Literal(str(s).replace(\"https://w3id.org/spice/SON/ShaverEmotions/\", \"\"), lang=\"en\")))"
   ]
  },
  {
   "cell_type": "code",
   "execution_count": 21,
   "id": "f5d110e9",
   "metadata": {},
   "outputs": [
    {
     "data": {
      "text/plain": [
       "<Graph identifier=N7e53becb580e4ae79177d6613649905f (<class 'rdflib.graph.Graph'>)>"
      ]
     },
     "execution_count": 21,
     "metadata": {},
     "output_type": "execute_result"
    }
   ],
   "source": [
    "g.serialize(\"ontology2.owl\", format=\"ttl\")"
   ]
  },
  {
   "cell_type": "code",
   "execution_count": null,
   "id": "e47c83e0",
   "metadata": {},
   "outputs": [],
   "source": []
  }
 ],
 "metadata": {
  "kernelspec": {
   "display_name": "Python 3 (ipykernel)",
   "language": "python",
   "name": "python3"
  },
  "language_info": {
   "codemirror_mode": {
    "name": "ipython",
    "version": 3
   },
   "file_extension": ".py",
   "mimetype": "text/x-python",
   "name": "python",
   "nbconvert_exporter": "python",
   "pygments_lexer": "ipython3",
   "version": "3.8.0"
  }
 },
 "nbformat": 4,
 "nbformat_minor": 5
}
